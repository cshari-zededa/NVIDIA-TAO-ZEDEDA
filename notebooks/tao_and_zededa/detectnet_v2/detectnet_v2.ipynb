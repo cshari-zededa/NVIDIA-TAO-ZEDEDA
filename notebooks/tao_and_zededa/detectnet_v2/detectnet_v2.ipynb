{
 "cells": [
  {
   "cell_type": "markdown",
   "metadata": {},
   "source": [
    "# Integrated Edge AI workflow using NVIDIA TAO toolkit and ZEDEDA Edge Orchestrator \n",
    "\n",
    "<img align=\"center\" src=\"https://github.com/cshari-zededa/demo_files/releases/download/v1.0/nvidia_zededa.png\" width=\"1080\"> \n",
    "\n",
    "NVIDIA TAO (Transfer, Adapt and Optimize) toolkit offers toolkit to work with pre-trained NVIDIA NGC models, retrain them with additional datasets, optimize the model, and convert them into TensorRT engines for running them using NVIDIA GPUs.\n",
    "\n",
    "ZEDEDA Edge Orchestrator is an enterprise-grade Edge Management platform and Orchestration Engine that manages lifecyle of Edge workloads, including Edge AI, across thousands of Edge devices distributed across the globe, from a centralized portal. In this demo we are going to see how these two powerful solutions compliment each other, and give a complete Edge AI lifecyle management, right from model development, till the Edge AI solution rollout. \n",
    "\n",
    "This demo uses NVIDIA NGC model DetectNet-V2 as an example.\n"
   ]
  },
  {
   "attachments": {},
   "cell_type": "markdown",
   "metadata": {},
   "source": [
    "# Object Detection using DetectNet-V2 \n",
    "\n",
    "Transfer learning is the process of transferring learned features from one application to another. It is a commonly used training technique where you use a model trained on one task and re-train to use it on a different task. \n",
    "\n",
    "Train Adapt Optimize (TAO) Toolkit  is a simple and easy-to-use Python based AI toolkit for taking purpose-built AI models and customizing them with users' own data.\n",
    "\n",
    "<img align=\"center\" src=\"https://developer.nvidia.com/sites/default/files/akamai/TAO/tlt-tao-toolkit-bring-your-own-model-diagram.png\" width=\"1080\"> "
   ]
  },
  {
   "cell_type": "markdown",
   "metadata": {},
   "source": [
    "## What is DetectNet-V2?\n",
    "\n",
    "DetectNet_v2, also known as GridBox object detection, is a highly optimized CNN based object detection model, that does bounding-box regression over a uniform grid on the input image. The gridbox system divides an input image into a uniform grid that predicts four normalized bounding-box parameters (xc, yc, w, h) and confidence value per output class.\n",
    "\n",
    "The raw normalized bounding-box and confidence detection are thesholded and then post-processed by a clustering algorithm such as DBSCAN, NMS or a HYBRID (DBSCAN + NMS) to produce the final bounding-box coordinates and category labels.\n",
    "\n",
    "### Sample output predictions from a trained DetectNet_v2 model\n",
    "\n",
    "<img align=\"center\" src=\"https://miro.medium.com/v2/resize:fit:720/0*YaQDIKR4gRbP2-by\" width=\"960\">\n",
    "\n",
    "<img align=\"center\" src=\"https://miro.medium.com/v2/resize:fit:720/0*eY1qluSyldYl9qDw\" width=\"960\">"
   ]
  },
  {
   "attachments": {},
   "cell_type": "markdown",
   "metadata": {},
   "source": [
    "## Learning Objectives\n",
    "In this notebook, you will learn how to leverage the simplicity and convenience of TAO along with the versatility of ZEDEDA Edge Orchestrator to effectively develop and deploy Edge AI models. At the end of this exercise you would have learnt to:\n",
    "\n",
    "* Take a pretrained resnet18 model and train a ResNet-18 DetectNet_v2 model on the KITTI dataset\n",
    "* Prune the trained detectnet_v2 model\n",
    "* Retrain the pruned model to recover lost accuracy\n",
    "* Run Inference on the trained model\n",
    "* Export the pruned, quantized and retrained model in .ONNX format (Open Neural Network Exchange)\n",
    "* Convert the model from .onnx into a TensorRT engine format (.engine) to use Jetson iGPU for inference acceleration\n",
    "* Add the model to model repository, and package the Edge AI application profile for deployment\n",
    "* Deploy the Edge AI solution bundle across the fleet using ZEDEDA Edge AI orchestration Engine\n",
    "* Observe the solution in ZEDEDA UI and a demo web interface\n",
    "\n",
    "At the end of this notebook, you will have a trained and optimized `detectnet_v2` model that you\n",
    "may deploy via [Triton](https://github.com/NVIDIA-AI-IOT/tao-toolkit-triton-apps) or [DeepStream](https://developer.nvidia.com/deepstream-sdk).\n"
   ]
  },
  {
   "attachments": {},
   "cell_type": "markdown",
   "metadata": {},
   "source": [
    "## 0. Set up env variables and map drives <a class=\"anchor\" id=\"head-0\"></a>\n",
    "\n",
    "The following notebook requires the user to set an env variable called the `$LOCAL_PROJECT_DIR` as the path to the users workspace. Please note that the dataset to run this notebook is expected to reside in the `$LOCAL_PROJECT_DIR/data`, while the TAO experiment generated collaterals will be output to `$LOCAL_PROJECT_DIR/detectnet_v2`. More information on how to set up the dataset and the supported steps in the TAO workflow are provided in the subsequent cells.\n",
    "\n",
    "*Note: Please make sure to remove any stray artifacts/files from the `$USER_EXPERIMENT_DIR` or `$DATA_DOWNLOAD_DIR` paths as mentioned below, that may have been generated from previous experiments. Having checkpoint files etc may interfere with creating a training graph for a new experiment.*\n",
    "\n",
    "*Note: This notebook currently is by default set up to run training using 1 GPU. To use more GPU's please update the env variable `$NUM_GPUS` accordingly*"
   ]
  },
  {
   "cell_type": "code",
   "execution_count": null,
   "metadata": {},
   "outputs": [],
   "source": [
    "# Setting up env variables for cleaner command line commands.\n",
    "import os\n",
    "\n",
    "%env NUM_GPUS=1\n",
    "%env USER_EXPERIMENT_DIR=/workspace/tao-experiments/detectnet_v2\n",
    "%env DATA_DOWNLOAD_DIR=/workspace/tao-experiments/data\n",
    "%env DOCKERHUB_USERNAME=csharizededa\n",
    "\n",
    "# Set this path if you don't run the notebook from the samples directory.\n",
    "# %env NOTEBOOK_ROOT=~/tao-samples/detectnet_v2\n",
    "\n",
    "# Please define this local project directory that needs to be mapped to the TAO docker session.\n",
    "# The dataset expected to be present in $LOCAL_PROJECT_DIR/data, while the results for the steps\n",
    "# in this notebook will be stored at $LOCAL_PROJECT_DIR/detectnet_v2\n",
    "# !PLEASE MAKE SURE TO UPDATE THIS PATH!.\n",
    "\n",
    "os.environ[\"LOCAL_PROJECT_DIR\"] = \"/home/ubuntu/tao\"\n",
    "\n",
    "os.environ[\"LOCAL_DATA_DIR\"] = os.path.join(\n",
    "    os.getenv(\"LOCAL_PROJECT_DIR\", os.getcwd()),\n",
    "    \"data\"\n",
    ")\n",
    "os.environ[\"LOCAL_EXPERIMENT_DIR\"] = os.path.join(\n",
    "    os.getenv(\"LOCAL_PROJECT_DIR\", os.getcwd()),\n",
    "    \"detectnet_v2\"\n",
    ")\n",
    "\n",
    "# Make the experiment directory \n",
    "! mkdir -p $LOCAL_EXPERIMENT_DIR\n",
    "\n",
    "# The sample spec files are present in the same path as the downloaded samples.\n",
    "os.environ[\"LOCAL_SPECS_DIR\"] = os.path.join(\n",
    "    os.getenv(\"NOTEBOOK_ROOT\", os.getcwd()),\n",
    "    \"specs\"\n",
    ")\n",
    "%env SPECS_DIR=/workspace/tao-experiments/detectnet_v2/specs\n",
    "CLEARML_LOGGED_IN = False\n",
    "WANDB_LOGGED_IN = False\n",
    "\n",
    "# Showing list of specification files.\n",
    "!ls -rlt $LOCAL_SPECS_DIR"
   ]
  },
  {
   "attachments": {},
   "cell_type": "markdown",
   "metadata": {},
   "source": [
    "The cell below maps the project directory on your local host to a workspace directory in the TAO docker instance, so that the data and the results are mapped from in and out of the docker. For more information please refer to the [launcher instance](https://docs.nvidia.com/tao/tao-toolkit/tao_launcher.html) in the user guide.\n",
    "\n",
    "When running this cell on AWS, update the drive_map entry with the dictionary defined below, so that you don't have permission issues when writing data into folders created by the TAO docker.\n",
    "\n",
    "```json\n",
    "drive_map = {\n",
    "    \"Mounts\": [\n",
    "            # Mapping the data directory\n",
    "            {\n",
    "                \"source\": os.environ[\"LOCAL_PROJECT_DIR\"],\n",
    "                \"destination\": \"/workspace/tao-experiments\"\n",
    "            },\n",
    "            # Mapping the specs directory.\n",
    "            {\n",
    "                \"source\": os.environ[\"LOCAL_SPECS_DIR\"],\n",
    "                \"destination\": os.environ[\"SPECS_DIR\"]\n",
    "            },\n",
    "        ],\n",
    "    \"DockerOptions\": {\n",
    "        \"user\": \"{}:{}\".format(os.getuid(), os.getgid())\n",
    "    }\n",
    "}\n",
    "```"
   ]
  },
  {
   "cell_type": "code",
   "execution_count": null,
   "metadata": {},
   "outputs": [],
   "source": [
    "# Mapping up the local directories to the TAO docker.\n",
    "import json\n",
    "mounts_file = os.path.expanduser(\"~/.tao_mounts.json\")\n",
    "\n",
    "# Define the dictionary with the mapped drives\n",
    "drive_map = {\n",
    "    \"Mounts\": [\n",
    "        # Mapping the data directory\n",
    "        {\n",
    "            \"source\": os.environ[\"LOCAL_PROJECT_DIR\"],\n",
    "            \"destination\": \"/workspace/tao-experiments\"\n",
    "        },\n",
    "        # Mapping the specs directory.\n",
    "        {\n",
    "            \"source\": os.environ[\"LOCAL_SPECS_DIR\"],\n",
    "            \"destination\": os.environ[\"SPECS_DIR\"]\n",
    "        },\n",
    "    ],\n",
    "    \"DockerOptions\":{\n",
    "        \"user\": \"{}:{}\".format(os.getuid(), os.getgid())\n",
    "    }\n",
    "}\n",
    "\n",
    "# Writing the mounts file.\n",
    "with open(mounts_file, \"w\") as mfile:\n",
    "    json.dump(drive_map, mfile, indent=4)\n"
   ]
  },
  {
   "cell_type": "code",
   "execution_count": null,
   "metadata": {},
   "outputs": [],
   "source": [
    "!cat ~/.tao_mounts.json"
   ]
  },
  {
   "attachments": {},
   "cell_type": "markdown",
   "metadata": {},
   "source": [
    "## 1. Install the TAO launcher <a class=\"anchor\" id=\"head-1\"></a>\n",
    "The TAO launcher is a python package distributed as a python wheel listed in PyPI. You may install the launcher by executing the following cell.\n",
    "\n",
    "Please note that TAO Toolkit recommends users to run the TAO launcher in a virtual env with python 3.6.9. You may follow the instruction in this [page](https://virtualenvwrapper.readthedocs.io/en/latest/install.html) to set up a python virtual env using the `virtualenv` and `virtualenvwrapper` packages. Once you have setup virtualenvwrapper, please set the version of python to be used in the virtual env by using the `VIRTUALENVWRAPPER_PYTHON` variable. You may do so by running\n",
    "\n",
    "```sh\n",
    "export VIRTUALENVWRAPPER_PYTHON=/path/to/bin/python3.x\n",
    "```\n",
    "where x >= 6 and <= 8\n",
    "\n",
    "We recommend performing this step first and then launching the notebook from the virtual environment. In addition to installing TAO python package, please make sure of the following software requirements:\n",
    "* python >=3.6.9 < 3.8.x\n",
    "* docker-ce > 19.03.5\n",
    "* docker-API 1.40\n",
    "* nvidia-container-toolkit > 1.3.0-1\n",
    "* nvidia-container-runtime > 3.4.0-1\n",
    "* nvidia-docker2 > 2.5.0-1\n",
    "* nvidia-driver > 455+\n",
    "\n",
    "Once you have installed the pre-requisites, please log in to the docker registry nvcr.io by following the command below\n",
    "\n",
    "```sh\n",
    "docker login nvcr.io\n",
    "```\n",
    "\n",
    "You will be triggered to enter a username and password. The username is `$oauthtoken` and the password is the API key generated from `ngc.nvidia.com`. Please follow the instructions in the [NGC setup guide](https://docs.nvidia.com/ngc/ngc-overview/index.html#generating-api-key) to generate your own API key."
   ]
  },
  {
   "cell_type": "code",
   "execution_count": null,
   "metadata": {},
   "outputs": [],
   "source": [
    "# SKIP this step IF you have already installed the TAO launcher wheel.\n",
    "!pip3 install nvidia-tao"
   ]
  },
  {
   "cell_type": "code",
   "execution_count": null,
   "metadata": {},
   "outputs": [],
   "source": [
    "# View the versions of the TAO launcher\n",
    "!tao info --verbose"
   ]
  },
  {
   "attachments": {},
   "cell_type": "markdown",
   "metadata": {},
   "source": [
    "## 2. Prepare dataset and pre-trained model <a class=\"anchor\" id=\"head-2\"></a>"
   ]
  },
  {
   "attachments": {},
   "cell_type": "markdown",
   "metadata": {},
   "source": [
    "We will be using the kitti object detection dataset for this example. To find more details, please visit http://www.cvlibs.net/datasets/kitti/eval_object.php?obj_benchmark=2d. Please download both, the left color images of the object dataset from [here](http://www.cvlibs.net/download.php?file=data_object_image_2.zip) and, the training labels for the object dataset from [here](http://www.cvlibs.net/download.php?file=data_object_label_2.zip), and place the zip files in `$LOCAL_DATA_DIR`\n",
    "\n",
    "The data will then be extracted to have\n",
    "* training images in `$LOCAL_DATA_DIR/training/image_2`\n",
    "* training labels in `$LOCAL_DATA_DIR/training/label_2`\n",
    "* testing images in `$LOCAL_DATA_DIR/testing/image_2`\n",
    "\n",
    "You may use this notebook with your own dataset as well. To use this example with your own dataset, please follow the same directory structure as mentioned below.\n",
    "\n",
    "*Note: There are no labels for the testing images, therefore we use it just to visualize inferences for the trained model.*"
   ]
  },
  {
   "attachments": {},
   "cell_type": "markdown",
   "metadata": {},
   "source": [
    "### A. Download the dataset <a class=\"anchor\" id=\"head-2-1\"></a>\n",
    "Once you have gotten the download links in your email, please populate them in place of the `KITTI_IMAGES_DOWNLOAD_URL` and the `KITTI_LABELS_DOWNLOAD_URL`. This next cell, will download the data and place in `$LOCAL_DATA_DIR`"
   ]
  },
  {
   "cell_type": "code",
   "execution_count": null,
   "metadata": {},
   "outputs": [],
   "source": [
    "import os\n",
    "!mkdir -p $LOCAL_DATA_DIR\n",
    "os.environ[\"URL_IMAGES\"]=\"https://s3.eu-central-1.amazonaws.com/avg-kitti/data_object_image_2.zip\"\n",
    "!if [ ! -f $LOCAL_DATA_DIR/data_object_image_2.zip ]; then wget $URL_IMAGES -O $LOCAL_DATA_DIR/data_object_image_2.zip; else echo \"image archive already downloaded\"; fi \n",
    "os.environ[\"URL_LABELS\"]=\"https://s3.eu-central-1.amazonaws.com/avg-kitti/data_object_label_2.zip\"\n",
    "!if [ ! -f $LOCAL_DATA_DIR/data_object_label_2.zip ]; then wget $URL_LABELS -O $LOCAL_DATA_DIR/data_object_label_2.zip; else echo \"label archive already downloaded\"; fi "
   ]
  },
  {
   "attachments": {},
   "cell_type": "markdown",
   "metadata": {},
   "source": [
    "### B. Verify downloaded dataset <a class=\"anchor\" id=\"head-2-2\"></a>"
   ]
  },
  {
   "cell_type": "code",
   "execution_count": null,
   "metadata": {},
   "outputs": [],
   "source": [
    "# Check the dataset is present\n",
    "!if [ ! -f $LOCAL_DATA_DIR/data_object_image_2.zip ]; then echo 'Image zip file not found, please download.'; else echo 'Found Image zip file.';fi\n",
    "!if [ ! -f $LOCAL_DATA_DIR/data_object_label_2.zip ]; then echo 'Label zip file not found, please download.'; else echo 'Found Labels zip file.';fi"
   ]
  },
  {
   "cell_type": "code",
   "execution_count": null,
   "metadata": {},
   "outputs": [],
   "source": [
    "# This may take a while: verify integrity of zip files \n",
    "!sha256sum $LOCAL_DATA_DIR/data_object_image_2.zip | cut -d ' ' -f 1 | grep -xq '^351c5a2aa0cd9238b50174a3a62b846bc5855da256b82a196431d60ff8d43617$' ; \\\n",
    "if test $? -eq 0; then echo \"images OK\"; else echo \"images corrupt, redownload!\" && rm -f $LOCAL_DATA_DIR/data_object_image_2.zip; fi \n",
    "!sha256sum $LOCAL_DATA_DIR/data_object_label_2.zip | cut -d ' ' -f 1 | grep -xq '^4efc76220d867e1c31bb980bbf8cbc02599f02a9cb4350effa98dbb04aaed880$' ; \\\n",
    "if test $? -eq 0; then echo \"labels OK\"; else echo \"labels corrupt, redownload!\" && rm -f $LOCAL_DATA_DIR/data_object_label_2.zip; fi "
   ]
  },
  {
   "cell_type": "code",
   "execution_count": null,
   "metadata": {},
   "outputs": [],
   "source": [
    "# unpack downloaded datasets to $DATA_DOWNLOAD_DIR.\n",
    "# The training images will be under $DATA_DOWNLOAD_DIR/training/image_2 and \n",
    "# labels will be under $DATA_DOWNLOAD_DIR/training/label_2.\n",
    "# The testing images will be under $DATA_DOWNLOAD_DIR/testing/image_2.\n",
    "!unzip -u $LOCAL_DATA_DIR/data_object_image_2.zip -d $LOCAL_DATA_DIR\n",
    "!unzip -u $LOCAL_DATA_DIR/data_object_label_2.zip -d $LOCAL_DATA_DIR"
   ]
  },
  {
   "cell_type": "code",
   "execution_count": null,
   "metadata": {},
   "outputs": [],
   "source": [
    "# verify\n",
    "import os\n",
    "\n",
    "DATA_DIR = os.environ.get('LOCAL_DATA_DIR')\n",
    "num_training_images = len(os.listdir(os.path.join(DATA_DIR, \"training/image_2\")))\n",
    "num_training_labels = len(os.listdir(os.path.join(DATA_DIR, \"training/label_2\")))\n",
    "num_testing_images = len(os.listdir(os.path.join(DATA_DIR, \"testing/image_2\")))\n",
    "print(\"Number of images in the train/val set. {}\".format(num_training_images))\n",
    "print(\"Number of labels in the train/val set. {}\".format(num_training_labels))\n",
    "print(\"Number of images in the test set. {}\".format(num_testing_images))"
   ]
  },
  {
   "attachments": {},
   "cell_type": "markdown",
   "metadata": {},
   "source": [
    "### C. Prepare tf records from kitti format dataset <a class=\"anchor\" id=\"head-2-3\"></a>\n",
    "\n",
    "* Update the tfrecords spec file to take in your kitti format dataset\n",
    "* Create the tfrecords using the detectnet_v2 dataset_convert \n",
    "\n",
    "*Note: TfRecords only need to be generated once.*"
   ]
  },
  {
   "cell_type": "code",
   "execution_count": null,
   "metadata": {},
   "outputs": [],
   "source": [
    "print(\"TFrecords conversion spec file for kitti training\")\n",
    "!cat $LOCAL_SPECS_DIR/detectnet_v2_tfrecords_kitti_trainval.txt"
   ]
  },
  {
   "cell_type": "code",
   "execution_count": null,
   "metadata": {
    "scrolled": true
   },
   "outputs": [],
   "source": [
    "# Creating a new directory for the output tfrecords dump.\n",
    "print(\"Converting Tfrecords for kitti trainval dataset\")\n",
    "!mkdir -p $LOCAL_DATA_DIR/tfrecords && rm -rf $LOCAL_DATA_DIR/tfrecords/*\n",
    "!tao model detectnet_v2 dataset_convert \\\n",
    "                  -d $SPECS_DIR/detectnet_v2_tfrecords_kitti_trainval.txt \\\n",
    "                  -o $DATA_DOWNLOAD_DIR/tfrecords/kitti_trainval/kitti_trainval \\\n",
    "                  -r $USER_EXPERIMENT_DIR/"
   ]
  },
  {
   "cell_type": "code",
   "execution_count": null,
   "metadata": {},
   "outputs": [],
   "source": [
    "!ls -rlt $LOCAL_DATA_DIR/tfrecords/kitti_trainval/"
   ]
  },
  {
   "attachments": {},
   "cell_type": "markdown",
   "metadata": {},
   "source": [
    "### D. Download pre-trained model <a class=\"anchor\" id=\"head-2-4\"></a>\n",
    "Download the correct pretrained model from the NGC model registry for your experiment. Please note that for DetectNet_v2, the input is expected to be 0-1 normalized with input channels in RGB order. Therefore, for optimum results please download model templates from `nvidia/tao/pretrained_detectnet_v2`. The templates are now organized as version strings. For example, to download a resnet18 model suitable for detectnet please resolve to the ngc object shown as `nvidia/tao/pretrained_detectnet_v2:resnet18`. \n",
    "\n",
    "All other models are in BGR order expect input preprocessing with mean subtraction and input channels. Using them as pretrained weights may result in suboptimal performance.\n",
    "\n",
    "You may also use this notebook with the following purpose-built pretrained models \n",
    "* [PeopleNet](https://ngc.nvidia.com/catalog/models/nvidia:tao:peoplenet)\n",
    "* [TrafficCamNet](https://ngc.nvidia.com/catalog/models/nvidia:tao:trafficcamnet)\n",
    "* [DashCamNet](https://ngc.nvidia.com/catalog/models/nvidia:tao:dashcamnet)\n",
    "* [FaceDetect-IR](https://ngc.nvidia.com/catalog/models/nvidia:tao:facedetectir) "
   ]
  },
  {
   "cell_type": "code",
   "execution_count": null,
   "metadata": {
    "scrolled": true
   },
   "outputs": [],
   "source": [
    "# Installing NGC CLI on the local machine.\n",
    "## Download and install\n",
    "%env CLI=ngccli_cat_linux.zip\n",
    "!mkdir -p $LOCAL_PROJECT_DIR/ngccli\n",
    "\n",
    "# Remove any previously existing CLI installations\n",
    "!rm -rf $LOCAL_PROJECT_DIR/ngccli/*\n",
    "!wget \"https://ngc.nvidia.com/downloads/$CLI\" -P $LOCAL_PROJECT_DIR/ngccli\n",
    "!unzip -u \"$LOCAL_PROJECT_DIR/ngccli/$CLI\" -d $LOCAL_PROJECT_DIR/ngccli/\n",
    "!rm $LOCAL_PROJECT_DIR/ngccli/*.zip \n",
    "os.environ[\"PATH\"]=\"{}/ngccli/ngc-cli:{}\".format(os.getenv(\"LOCAL_PROJECT_DIR\", \"\"), os.getenv(\"PATH\", \"\"))"
   ]
  },
  {
   "cell_type": "code",
   "execution_count": null,
   "metadata": {},
   "outputs": [],
   "source": [
    "# List models available in the model registry.\n",
    "!ngc registry model list nvidia/tao/pretrained_detectnet_v2:*"
   ]
  },
  {
   "cell_type": "code",
   "execution_count": null,
   "metadata": {},
   "outputs": [],
   "source": [
    "# Create the target destination to download the model.\n",
    "!mkdir -p $LOCAL_EXPERIMENT_DIR/pretrained_resnet18/"
   ]
  },
  {
   "cell_type": "code",
   "execution_count": null,
   "metadata": {},
   "outputs": [],
   "source": [
    "# Download the pretrained model from NGC\n",
    "!ngc registry model download-version nvidia/tao/pretrained_detectnet_v2:resnet18 \\\n",
    "    --dest $LOCAL_EXPERIMENT_DIR/pretrained_resnet18"
   ]
  },
  {
   "cell_type": "code",
   "execution_count": null,
   "metadata": {},
   "outputs": [],
   "source": [
    "!ls -rlt $LOCAL_EXPERIMENT_DIR/pretrained_resnet18/pretrained_detectnet_v2_vresnet18"
   ]
  },
  {
   "attachments": {},
   "cell_type": "markdown",
   "metadata": {},
   "source": [
    "## 3. Provide training specification <a class=\"anchor\" id=\"head-3\"></a>\n",
    "* Tfrecords for the train datasets\n",
    "    * To use the newly generated tfrecords, update the dataset_config parameter in the spec file at `$SPECS_DIR/detectnet_v2_train_resnet18_kitti.txt` \n",
    "    * Update the fold number to use for evaluation. In case of random data split, please use fold `0` only\n",
    "    * For sequence-wise split, you may use any fold generated from the dataset convert tool\n",
    "* Pre-trained models\n",
    "* Augmentation parameters for on the fly data augmentation\n",
    "* Other training (hyper-)parameters such as batch size, number of epochs, learning rate etc."
   ]
  },
  {
   "cell_type": "code",
   "execution_count": null,
   "metadata": {},
   "outputs": [],
   "source": [
    "!cat $LOCAL_SPECS_DIR/detectnet_v2_train_resnet18_kitti.txt"
   ]
  },
  {
   "attachments": {},
   "cell_type": "markdown",
   "metadata": {},
   "source": [
    "## 4. Run TAO training <a class=\"anchor\" id=\"head-4\"></a>\n",
    "* Provide the sample spec file and the output directory location for models\n",
    "\n",
    "*Note: The training may take hours to complete. Also, the remaining notebook, assumes that the training was done in single-GPU mode. When run in multi-GPU mode, please expect to update the pruning and inference steps with new pruning thresholds and updated parameters in the clusterfile.json accordingly for optimum performance.*\n",
    "\n",
    "*Detectnet_v2 now supports restart from checkpoint. In case the training job is killed prematurely, you may resume training from the closest checkpoint by simply re-running the **same** command line. Please do make sure to use the <u>**same number of GPUs**</u> when restarting the training.*\n",
    "\n",
    "*When running the training with NUM_GPUs>1, you may need to modify the `batch_size_per_gpu` and `learning_rate` to get similar mAP as a 1GPU training run. In most cases, scaling down the batch-size by a factor of NUM_GPU's or scaling up the learning rate by a factor of NUM_GPU's would be a good place to start.* "
   ]
  },
  {
   "cell_type": "code",
   "execution_count": null,
   "metadata": {},
   "outputs": [],
   "source": [
    "!tao model detectnet_v2 train -e $SPECS_DIR/detectnet_v2_train_resnet18_kitti.txt \\\n",
    "                        -r $USER_EXPERIMENT_DIR/experiment_dir_unpruned \\\n",
    "                        -n resnet18_detector \\\n",
    "                        --gpus $NUM_GPUS"
   ]
  },
  {
   "cell_type": "code",
   "execution_count": null,
   "metadata": {},
   "outputs": [],
   "source": [
    "print('Model for each epoch:')\n",
    "print('---------------------')\n",
    "!ls -lh $LOCAL_EXPERIMENT_DIR/experiment_dir_unpruned/weights"
   ]
  },
  {
   "attachments": {},
   "cell_type": "markdown",
   "metadata": {},
   "source": [
    "## 5. Evaluate the trained model <a class=\"anchor\" id=\"head-5\"></a>"
   ]
  },
  {
   "cell_type": "code",
   "execution_count": null,
   "metadata": {},
   "outputs": [],
   "source": [
    "!tao model detectnet_v2 evaluate -e $SPECS_DIR/detectnet_v2_train_resnet18_kitti.txt\\\n",
    "                           -m $USER_EXPERIMENT_DIR/experiment_dir_unpruned/weights/resnet18_detector.hdf5"
   ]
  },
  {
   "attachments": {},
   "cell_type": "markdown",
   "metadata": {},
   "source": [
    "## 6. Prune the trained model <a class=\"anchor\" id=\"head-6\"></a>\n",
    "* Specify pre-trained model\n",
    "* Equalization criterion (`Applicable for resnets and mobilenets`)\n",
    "* Threshold for pruning.\n",
    "* Output directory to store the model\n",
    "\n",
    "*Usually, you just need to adjust `-pth` (threshold) for accuracy and model size trade off. Higher `pth` gives you smaller model (and thus higher inference speed) but worse accuracy. The threshold to use is dependent on the dataset. A pth value `5.2e-6` is just a start point. If the retrain accuracy is good, you can increase this value to get smaller models. Otherwise, lower this value to get better accuracy.*\n",
    "\n",
    "*For some internal studies, we have noticed that a pth value of 0.01 is a good starting point for detectnet_v2 models.*"
   ]
  },
  {
   "cell_type": "code",
   "execution_count": null,
   "metadata": {},
   "outputs": [],
   "source": [
    "# Create an output directory if it doesn't exist.\n",
    "!mkdir -p $LOCAL_EXPERIMENT_DIR/experiment_dir_pruned"
   ]
  },
  {
   "cell_type": "code",
   "execution_count": null,
   "metadata": {},
   "outputs": [],
   "source": [
    "!tao model detectnet_v2 prune \\\n",
    "                  -m $USER_EXPERIMENT_DIR/experiment_dir_unpruned/weights/resnet18_detector.hdf5 \\\n",
    "                  -o $USER_EXPERIMENT_DIR/experiment_dir_pruned/resnet18_nopool_bn_detectnet_v2_pruned.hdf5 \\\n",
    "                  -eq union \\\n",
    "                  -pth 0.0000052"
   ]
  },
  {
   "cell_type": "code",
   "execution_count": null,
   "metadata": {},
   "outputs": [],
   "source": [
    "!ls -rlt $LOCAL_EXPERIMENT_DIR/experiment_dir_pruned/"
   ]
  },
  {
   "attachments": {},
   "cell_type": "markdown",
   "metadata": {},
   "source": [
    "## 7. Retrain the pruned model <a class=\"anchor\" id=\"head-7\"></a>\n",
    "* Model needs to be re-trained to bring back accuracy after pruning\n",
    "* Specify re-training specification with pretrained weights as pruned model.\n",
    "\n",
    "*Note: For retraining, please set the `load_graph` option to `true` in the model_config to load the pruned model graph. Also, if after retraining, the model shows some decrease in mAP, it could be that the originally trained model was pruned a little too much. Please try reducing the pruning threshold (thereby reducing the pruning ratio) and use the new model to retrain.*\n",
    "\n",
    "*Note: DetectNet_v2 now supports Quantization Aware Training, to help with optmizing the model. By default, the training in the cell below doesn't run the model with QAT enabled. For information on training a model with QAT, please refer to the cells under [section 11](#head-11)*"
   ]
  },
  {
   "cell_type": "code",
   "execution_count": null,
   "metadata": {},
   "outputs": [],
   "source": [
    "# Printing the retrain experiment file. \n",
    "# Note: We have updated the experiment file to include the \n",
    "# newly pruned model as a pretrained weights and, the\n",
    "# load_graph option is set to true \n",
    "!cat $LOCAL_SPECS_DIR/detectnet_v2_retrain_resnet18_kitti.txt"
   ]
  },
  {
   "cell_type": "code",
   "execution_count": null,
   "metadata": {
    "scrolled": true
   },
   "outputs": [],
   "source": [
    "# Retraining using the pruned model as pretrained weights \n",
    "!tao model detectnet_v2 train -e $SPECS_DIR/detectnet_v2_retrain_resnet18_kitti.txt \\\n",
    "                        -r $USER_EXPERIMENT_DIR/experiment_dir_retrain \\\n",
    "                        -n resnet18_detector_pruned \\\n",
    "                        --gpus $NUM_GPUS"
   ]
  },
  {
   "cell_type": "code",
   "execution_count": null,
   "metadata": {},
   "outputs": [],
   "source": [
    "# Listing the newly retrained model.\n",
    "!ls -rlt $LOCAL_EXPERIMENT_DIR/experiment_dir_retrain/weights"
   ]
  },
  {
   "attachments": {},
   "cell_type": "markdown",
   "metadata": {},
   "source": [
    "## 8. Evaluate the retrained model <a class=\"anchor\" id=\"head-8\"></a>"
   ]
  },
  {
   "attachments": {},
   "cell_type": "markdown",
   "metadata": {},
   "source": [
    "This section evaluates the pruned and retrained model, using the `evaluate` command."
   ]
  },
  {
   "cell_type": "code",
   "execution_count": null,
   "metadata": {},
   "outputs": [],
   "source": [
    "!tao model detectnet_v2 evaluate -e $SPECS_DIR/detectnet_v2_retrain_resnet18_kitti.txt \\\n",
    "                           -m $USER_EXPERIMENT_DIR/experiment_dir_retrain/weights/resnet18_detector_pruned.hdf5"
   ]
  },
  {
   "attachments": {},
   "cell_type": "markdown",
   "metadata": {},
   "source": [
    "## 9. Model Export <a class=\"anchor\" id=\"head-10\"></a>"
   ]
  },
  {
   "cell_type": "code",
   "execution_count": null,
   "metadata": {},
   "outputs": [],
   "source": [
    "!mkdir -p $LOCAL_EXPERIMENT_DIR/experiment_dir_final\n",
    "\n",
    "!tao deploy detectnet_v2 \n",
    "\n",
    "# Removing a pre-existing copy of the onnx if there has been any.\n",
    "import os\n",
    "output_file=os.path.join(os.environ['LOCAL_EXPERIMENT_DIR'],\n",
    "                         \"experiment_dir_final/resnet18_detector.onnx\")\n",
    "if os.path.exists(output_file):\n",
    "    os.system(\"rm {}\".format(output_file))\n",
    "\n",
    "!tao model detectnet_v2 export \\\n",
    "                  -m $USER_EXPERIMENT_DIR/experiment_dir_unpruned/weights/resnet18_detector.hdf5 \\\n",
    "                  -e $SPECS_DIR/detectnet_v2_train_resnet18_kitti.txt \\\n",
    "                  -o $USER_EXPERIMENT_DIR/experiment_dir_final/resnet18_detector.onnx \\\n",
    "                  --onnx_route tf2onnx \\\n",
    "                  --gen_ds_config"
   ]
  },
  {
   "attachments": {},
   "cell_type": "markdown",
   "metadata": {},
   "source": [
    "## 11. Use ZEDEDA Edge AI service to convert to TensorRT engine for Jetson "
   ]
  },
  {
   "cell_type": "markdown",
   "metadata": {},
   "source": [
    "we can host .ONNX models directly on Triton Inference Server App on ZEDEDA supported Edge devices, and that would work. This is useful for Edge devices without any GPU.  But what is the fun if we don't optimize it to use GPUs! For this demo, we want to run this model on NVIDIA Jetson devices mananged by ZEDEDA Controller. Therefore we want to generate an optimized version of this .ONNX model which is capable of running inferences using iGPU on Jetson. But there is a limitation that the conversion from .ONNX to TensorRT engine format needs to be done on the target hardware. This means we can not perform this conversion inline with this notebook, as the TensorRT generated by this host will not work on Jetson. To address this need, ZEDEDA provides this conversion as a service through its Edge AI toolkit. This section passes the ONNX file to ZEDEDA Edge AI service for conversion. ZEDEDA Edge AI service internally optimizes the model into TensorRT engine file, and shares the .engine as output."
   ]
  },
  {
   "cell_type": "code",
   "execution_count": null,
   "metadata": {},
   "outputs": [],
   "source": [
    "from zededa_edge_ai_toolkit import ZededaTRTConverter\n",
    "\n",
    "onnx_file_path = \"/home/ubuntu/tao/detectnet_v2/experiment_dir_final/resnet18_detector.onnx\"\n",
    "\n",
    "ZededaTRTConverter(onnx_file_path, \"model.plan\")"
   ]
  },
  {
   "cell_type": "markdown",
   "metadata": {},
   "source": [
    "Verify that the model.plan is present in the target directory:"
   ]
  },
  {
   "cell_type": "code",
   "execution_count": null,
   "metadata": {},
   "outputs": [],
   "source": [
    "!ls -ltr model.plan"
   ]
  },
  {
   "cell_type": "code",
   "execution_count": null,
   "metadata": {},
   "outputs": [],
   "source": []
  },
  {
   "cell_type": "markdown",
   "metadata": {},
   "source": [
    "## 12. Use ZEDEDA Edge AI Orchestrator to build an Edge AI Application profile"
   ]
  },
  {
   "cell_type": "markdown",
   "metadata": {},
   "source": [
    "### Using the retrained NGC model to build an Edge AI application profile \n",
    "\n",
    "Now that we have built the model that is ready to be used with Triton Inference Server, let's proceed to build an Edge AI application profile that has the following components:\n",
    "* Triton Inference Server as a container built for the Jetson devices\n",
    "* The model we just built packaged as the OCI volume to be mounted to the Triton Inference Server\n",
    "* A metrics exporter container based on Grafana Alloy, to export metrics from the Triton Inference Server to Grafana Cloud\n",
    "* An Edge AI use case demo application, which demonstrates AI business logic by passing a demo video file to Triton Inference Server and showing the output\n",
    "\n",
    "We also demonstrate the capability of ZEDEDA Orchestration Engine, by deploying this profile across the fleet in one shot, with the concept of application profile deployment feature. In this example we are going to match edge devices based on device attributes called tags, which is similar to labels used in Kubernetes. The overall workflow in shown below:\n",
    "\n",
    "<img align=\"center\" src=\"https://github.com/cshari-zededa/demo_files/releases/download/v1.0/Image.3-2-25.at.3.09.AM.jpg\" width=\"1080\"> "
   ]
  },
  {
   "cell_type": "markdown",
   "metadata": {},
   "source": [
    "### Set up Docker credentials"
   ]
  },
  {
   "cell_type": "code",
   "execution_count": 3,
   "metadata": {},
   "outputs": [
    {
     "name": "stdin",
     "output_type": "stream",
     "text": [
      "Enter Docker Username:  csharizededa\n",
      "Enter Docker Password:  ········\n"
     ]
    },
    {
     "name": "stdout",
     "output_type": "stream",
     "text": [
      "Login Succeeded\n",
      "✅ Successfully logged into Docker!\n"
     ]
    },
    {
     "name": "stderr",
     "output_type": "stream",
     "text": [
      "WARNING! Your password will be stored unencrypted in /home/ubuntu/.docker/config.json.\n",
      "Configure a credential helper to remove this warning. See\n",
      "https://docs.docker.com/engine/reference/commandline/login/#credential-stores\n",
      "\n"
     ]
    }
   ],
   "source": [
    "import getpass\n",
    "import subprocess\n",
    "\n",
    "username = input(\"Enter Docker Username: \")\n",
    "password = getpass.getpass(\"Enter Docker Password: \")\n",
    "\n",
    "subprocess.run(f\"echo {password} | docker login -u {username} --password-stdin\", shell=True, check=True)\n",
    "\n",
    "print(\"✅ Successfully logged into Docker!\")\n"
   ]
  },
  {
   "cell_type": "markdown",
   "metadata": {},
   "source": [
    "### Package the model we have trained as a OCI volume. \n",
    "Later on, we will mount this OCI volume in to the Triton Inference Server for model serving at the Edge"
   ]
  },
  {
   "cell_type": "code",
   "execution_count": 4,
   "metadata": {},
   "outputs": [
    {
     "name": "stdout",
     "output_type": "stream",
     "text": [
      "total 4\n",
      "drwx------ 3 ubuntu ubuntu 4096 Mar  4 00:08 peoplenet\n"
     ]
    },
    {
     "name": "stderr",
     "output_type": "stream",
     "text": [
      "#0 building with \"default\" instance using docker driver\n",
      "\n",
      "#1 [internal] load build definition from Dockerfile\n",
      "#1 transferring dockerfile: 72B done\n",
      "#1 DONE 0.0s\n",
      "\n",
      "#2 [internal] load .dockerignore\n",
      "#2 transferring context: 2B done\n",
      "#2 DONE 0.0s\n",
      "\n",
      "#3 [internal] load build context\n",
      "#3 transferring context: 102B done\n",
      "#3 DONE 0.0s\n",
      "\n",
      "#4 [1/1] COPY models/ /models\n",
      "#4 CACHED\n",
      "\n",
      "#5 exporting to image\n",
      "#5 exporting layers done\n",
      "#5 writing image sha256:beaa6586838f861f28c48f0c7ad964826f684c47e3c2e687c25e2e0939bb40ca done\n",
      "#5 naming to docker.io/library/modelrepo done\n",
      "#5 DONE 0.0s\n"
     ]
    },
    {
     "data": {
      "text/plain": [
       "CompletedProcess(args=['docker', 'build', '-t', 'modelrepo', '.'], returncode=0)"
      ]
     },
     "execution_count": 4,
     "metadata": {},
     "output_type": "execute_result"
    }
   ],
   "source": [
    "import os\n",
    "import subprocess\n",
    "\n",
    "!rm -rf models\n",
    "!mkdir -p models/peoplenet/1\n",
    "\n",
    "!ls -ltr models \n",
    "# Define parameters\n",
    "model_repository_path = \"models\"\n",
    "docker_image_name = \"modelrepo\"\n",
    "\n",
    "# Step 1: Create a Dockerfile\n",
    "dockerfile_content = f\"\"\"\n",
    "FROM scratch\n",
    "COPY models/ /models\n",
    "\"\"\"\n",
    "\n",
    "dockerfile_path = \"./Dockerfile\"\n",
    "\n",
    "# Write Dockerfile\n",
    "with open(dockerfile_path, \"w\") as f:\n",
    "    f.write(dockerfile_content)\n",
    "\n",
    "# Step 3: Build the OCI Image\n",
    "subprocess.run([\"docker\", \"build\", \"-t\", docker_image_name, \".\"], check=True)\n"
   ]
  },
  {
   "cell_type": "markdown",
   "metadata": {},
   "source": [
    "### Tag and push the model repository\n",
    "Next step is to push the OCI volume to a container registry, here we are pushing it to dockerhub"
   ]
  },
  {
   "cell_type": "code",
   "execution_count": 5,
   "metadata": {},
   "outputs": [
    {
     "name": "stdout",
     "output_type": "stream",
     "text": [
      "The push refers to repository [docker.io/csharizededa/modelrepo]\n",
      "b73af414994c: Preparing\n",
      "b73af414994c: Layer already exists\n",
      "1.0: digest: sha256:1ac539244e19dd4ecd91301990841ee89c89c7145cbfe9236e026a891c9a44e7 size: 523\n"
     ]
    },
    {
     "data": {
      "text/plain": [
       "CompletedProcess(args=['docker', 'push', 'csharizededa/modelrepo:1.0'], returncode=0)"
      ]
     },
     "execution_count": 5,
     "metadata": {},
     "output_type": "execute_result"
    }
   ],
   "source": [
    "subprocess.run([\"docker\", \"tag\", docker_image_name, f\"{username}/{docker_image_name}:1.0\"], check=True)\n",
    "subprocess.run([\"docker\", \"push\", f\"{username}/{docker_image_name}:1.0\"], check=True)"
   ]
  },
  {
   "cell_type": "code",
   "execution_count": null,
   "metadata": {},
   "outputs": [],
   "source": []
  },
  {
   "cell_type": "markdown",
   "metadata": {},
   "source": [
    "### Set up ZEDEDA Cloud URL and Access Credentials"
   ]
  },
  {
   "cell_type": "code",
   "execution_count": 10,
   "metadata": {},
   "outputs": [],
   "source": [
    "import subprocess\n",
    "\n",
    "!echo 'https://zedcontrol.alpha.zededa.net' > zededa_url\n",
    "#!echo your_zededa_api_token > zededa_token\n",
    "\n",
    "os.environ[\"ZEDEDA_URL\"] = subprocess.getoutput(\"cat zededa_url\")\n",
    "os.environ[\"ZEDEDA_TOKEN\"] = subprocess.getoutput(\"cat zededa_token\")\n"
   ]
  },
  {
   "cell_type": "code",
   "execution_count": 11,
   "metadata": {},
   "outputs": [
    {
     "name": "stdout",
     "output_type": "stream",
     "text": [
      "Creating image for: oci_triton_inference_server\n",
      "Created image with name: nvidia_triton_profile_oci_triton_inference_server and uuid: 65102b0e-becd-4e7f-a042-ab3fb3c0b315\n",
      "Creating image for: oci_model_repository\n",
      "Created image with name: nvidia_triton_profile_oci_model_repository and uuid: f154a226-6773-4fe9-8bfa-c9f63cef0bb3\n",
      "Creating image for: oci_prometheus_server\n",
      "Created image with name: nvidia_triton_profile_oci_prometheus_server and uuid: fd5008d6-38ea-4e7f-bf75-bc546dd37e76\n",
      "Creating image for: oci_edge_ai_app\n",
      "Created image with name: nvidia_triton_profile_oci_edge_ai_app and uuid: 6c71e870-2bdc-4a29-9998-f4136517d7a7\n",
      "Creating bundle for app: Triton\n",
      "Created bundle with name: nvidia_triton_profile_Triton and uuid: af8dd65d-ac02-4758-a1b0-cf82450404be\n",
      "Creating bundle for app: Prometheus\n",
      "Created bundle with name: nvidia_triton_profile_Prometheus and uuid: 84a7b860-8449-413c-9938-e5773b9edd91\n",
      "Creating bundle for app: EdgeAIApp\n",
      "Created bundle with name: nvidia_triton_profile_EdgeAIApp and uuid: 579873a1-1e43-434f-ab66-610400acf960\n",
      "Created Profile: {\n",
      "    \"application_bundles\": {\n",
      "        \"edgeaiapp\": {\n",
      "            \"bundle_name\": \"nvidia_triton_profile_EdgeAIApp\",\n",
      "            \"bundle_uuid\": \"579873a1-1e43-434f-ab66-610400acf960\"\n",
      "        },\n",
      "        \"prometheus\": {\n",
      "            \"bundle_name\": \"nvidia_triton_profile_Prometheus\",\n",
      "            \"bundle_uuid\": \"84a7b860-8449-413c-9938-e5773b9edd91\"\n",
      "        },\n",
      "        \"triton\": {\n",
      "            \"bundle_name\": \"nvidia_triton_profile_Triton\",\n",
      "            \"bundle_uuid\": \"af8dd65d-ac02-4758-a1b0-cf82450404be\"\n",
      "        }\n",
      "    },\n",
      "    \"id\": \"790d0c2c-8911-4f10-9b17-bf88616e7739\",\n",
      "    \"images\": {\n",
      "        \"oci_edge_ai_app\": {\n",
      "            \"image_name\": \"nvidia_triton_profile_oci_edge_ai_app\",\n",
      "            \"image_uuid\": \"6c71e870-2bdc-4a29-9998-f4136517d7a7\"\n",
      "        },\n",
      "        \"oci_model_repository\": {\n",
      "            \"image_name\": \"nvidia_triton_profile_oci_model_repository\",\n",
      "            \"image_uuid\": \"f154a226-6773-4fe9-8bfa-c9f63cef0bb3\"\n",
      "        },\n",
      "        \"oci_prometheus_server\": {\n",
      "            \"image_name\": \"nvidia_triton_profile_oci_prometheus_server\",\n",
      "            \"image_uuid\": \"fd5008d6-38ea-4e7f-bf75-bc546dd37e76\"\n",
      "        },\n",
      "        \"oci_triton_inference_server\": {\n",
      "            \"image_name\": \"nvidia_triton_profile_oci_triton_inference_server\",\n",
      "            \"image_uuid\": \"65102b0e-becd-4e7f-a042-ab3fb3c0b315\"\n",
      "        }\n",
      "    },\n",
      "    \"oci_edge_ai_app\": \"csharizededa/tritondemo:2.0\",\n",
      "    \"oci_model_repository\": \"csharizededa/ngcmodels:1.0\",\n",
      "    \"oci_prometheus_server\": \"csharizededa/tritonmetrics:2.0\",\n",
      "    \"oci_triton_inference_server\": \"csharizededa/tritonserver:6.0\",\n",
      "    \"profile_name\": \"nvidia_triton_profile\"\n",
      "}\n"
     ]
    }
   ],
   "source": [
    "from zededa_controller import ZededaController\n",
    "import os\n",
    "import json\n",
    "\n",
    "zededa = ZededaController()\n",
    "\n",
    "#Create Edge AI Application profile\n",
    "profile_data = {\n",
    "    \"profile_name\": \"nvidia_triton_profile\",\n",
    "    \"oci_triton_inference_server\": \"csharizededa/tritonserver:6.0\",\n",
    "    \"oci_model_repository\": \"csharizededa/ngcmodels:1.0\",\n",
    "    \"oci_prometheus_server\": \"csharizededa/tritonmetrics:2.0\",\n",
    "    \"oci_edge_ai_app\": \"csharizededa/tritondemo:2.0\"\n",
    "}\n",
    "profile = zededa.create_profile(profile_data)\n",
    "print(\"Created Profile:\", json.dumps(profile, indent=4, sort_keys=True))\n",
    "\n",
    "# Test get_profile\n",
    "all_profiles = zededa.get_profile()\n",
    "#print(\"All Profiles:\", all_profiles)\n",
    "\n"
   ]
  },
  {
   "cell_type": "markdown",
   "metadata": {},
   "source": [
    "## 13. Deploy the profile on your Edge fleet using device tags"
   ]
  },
  {
   "cell_type": "code",
   "execution_count": 12,
   "metadata": {},
   "outputs": [
    {
     "name": "stdout",
     "output_type": "stream",
     "text": [
      "Devices: [{'id': 'b8bc5916-8107-49c1-9310-27b7668f290a', 'name': 'Aetina-AIE-KN32', 'projectId': '2f0f4094-62fa-44f6-b280-75ff37f9d470'}, {'id': '48c78d24-b8a2-4863-a526-69cda2357b60', 'name': 'Aetina-AIE-PX22', 'projectId': '2f0f4094-62fa-44f6-b280-75ff37f9d470'}, {'id': '9ea77eac-5226-4ccb-9f92-e823332826e9', 'name': 'Aetina-SJC-AGX', 'projectId': 'b8552e75-54ee-4607-a715-1469dd132004'}, {'id': 'e6bbeb4b-a165-45e6-8f14-853ba648566d', 'name': 'Aetina-SJC-Orin-NX', 'projectId': 'b8552e75-54ee-4607-a715-1469dd132004'}]\n",
      "Deploying {profile_name}: on the following devices:-\n",
      "      Aetina-AIE-KN32\n",
      "      Aetina-AIE-PX22\n",
      "      Aetina-SJC-AGX\n",
      "      Aetina-SJC-Orin-NX\n",
      "Creating app instances for device: Aetina-AIE-KN32\n",
      "Creating Triton instance...\n",
      "Created Triton instance with name: {triton_instance['name'] and uuid: {triton_instance['uuid']}\n",
      "Creating Edge AI App instance...\n",
      "Created Edge AI App instance with name: {edge_ai_app_instance['name'] and uuid: {edge_ai_app_instance['uuid']}\n",
      "Creating Prometheus instance...\n",
      "Marking source as nvidia_triton_profile-prometheus-Aetina-AIE-KN32 for prometheus exporter app instance\n",
      "Created Prometheus instance with name: {prometheus_instance['name'] and uuid: {prometheus_instance['uuid']}\n",
      "Creating app instances for device: Aetina-AIE-PX22\n",
      "Creating Triton instance...\n",
      "Created Triton instance with name: {triton_instance['name'] and uuid: {triton_instance['uuid']}\n",
      "Creating Edge AI App instance...\n",
      "Created Edge AI App instance with name: {edge_ai_app_instance['name'] and uuid: {edge_ai_app_instance['uuid']}\n",
      "Creating Prometheus instance...\n",
      "Marking source as nvidia_triton_profile-prometheus-Aetina-AIE-PX22 for prometheus exporter app instance\n",
      "Created Prometheus instance with name: {prometheus_instance['name'] and uuid: {prometheus_instance['uuid']}\n",
      "Creating app instances for device: Aetina-SJC-AGX\n",
      "Creating Triton instance...\n",
      "Created Triton instance with name: {triton_instance['name'] and uuid: {triton_instance['uuid']}\n",
      "Creating Edge AI App instance...\n",
      "Created Edge AI App instance with name: {edge_ai_app_instance['name'] and uuid: {edge_ai_app_instance['uuid']}\n",
      "Creating Prometheus instance...\n",
      "Marking source as nvidia_triton_profile-prometheus-Aetina-SJC-AGX for prometheus exporter app instance\n",
      "Created Prometheus instance with name: {prometheus_instance['name'] and uuid: {prometheus_instance['uuid']}\n",
      "Creating app instances for device: Aetina-SJC-Orin-NX\n",
      "Creating Triton instance...\n",
      "Created Triton instance with name: {triton_instance['name'] and uuid: {triton_instance['uuid']}\n",
      "Creating Edge AI App instance...\n",
      "Created Edge AI App instance with name: {edge_ai_app_instance['name'] and uuid: {edge_ai_app_instance['uuid']}\n",
      "Creating Prometheus instance...\n",
      "Marking source as nvidia_triton_profile-prometheus-Aetina-SJC-Orin-NX for prometheus exporter app instance\n",
      "Created Prometheus instance with name: {prometheus_instance['name'] and uuid: {prometheus_instance['uuid']}\n",
      "Profile Deployment: {\n",
      "    \"device_deployments\": [\n",
      "        {\n",
      "            \"device_id\": \"b8bc5916-8107-49c1-9310-27b7668f290a\",\n",
      "            \"device_name\": \"Aetina-AIE-KN32\",\n",
      "            \"edge_ai_app_instance_name\": \"nvidia_triton_profile-edgeaiapp-Aetina-AIE-KN32\",\n",
      "            \"edge_ai_app_instance_uuid\": \"92530aec-318b-4c76-9a08-baed7fe2b179\",\n",
      "            \"prometheus_instance_name\": \"nvidia_triton_profile-prometheus-Aetina-AIE-KN32\",\n",
      "            \"prometheus_instance_uuid\": \"e1279e39-8b15-4105-ac02-71834b86e71c\",\n",
      "            \"triton_instance_name\": \"nvidia_triton_profile-triton-Aetina-AIE-KN32\",\n",
      "            \"triton_instance_uuid\": \"54ab1486-f6b6-44d6-8f34-9949cd5798ba\"\n",
      "        },\n",
      "        {\n",
      "            \"device_id\": \"48c78d24-b8a2-4863-a526-69cda2357b60\",\n",
      "            \"device_name\": \"Aetina-AIE-PX22\",\n",
      "            \"edge_ai_app_instance_name\": \"nvidia_triton_profile-edgeaiapp-Aetina-AIE-PX22\",\n",
      "            \"edge_ai_app_instance_uuid\": \"af068adc-6faf-40f7-9a4a-f17bf37762f6\",\n",
      "            \"prometheus_instance_name\": \"nvidia_triton_profile-prometheus-Aetina-AIE-PX22\",\n",
      "            \"prometheus_instance_uuid\": \"e5beec28-201e-481b-a3a5-2c0d69d256ba\",\n",
      "            \"triton_instance_name\": \"nvidia_triton_profile-triton-Aetina-AIE-PX22\",\n",
      "            \"triton_instance_uuid\": \"b6c9f8d5-f1db-4cbd-80ff-8dd21dbe9eef\"\n",
      "        },\n",
      "        {\n",
      "            \"device_id\": \"9ea77eac-5226-4ccb-9f92-e823332826e9\",\n",
      "            \"device_name\": \"Aetina-SJC-AGX\",\n",
      "            \"edge_ai_app_instance_name\": \"nvidia_triton_profile-edgeaiapp-Aetina-SJC-AGX\",\n",
      "            \"edge_ai_app_instance_uuid\": \"78facf8f-a9ed-45eb-ac07-89b18986539c\",\n",
      "            \"prometheus_instance_name\": \"nvidia_triton_profile-prometheus-Aetina-SJC-AGX\",\n",
      "            \"prometheus_instance_uuid\": \"f3c7969e-9026-4049-bd36-50a0fd1b6981\",\n",
      "            \"triton_instance_name\": \"nvidia_triton_profile-triton-Aetina-SJC-AGX\",\n",
      "            \"triton_instance_uuid\": \"8c7ca3d8-9603-4bd6-bfef-66df81bcf920\"\n",
      "        },\n",
      "        {\n",
      "            \"device_id\": \"e6bbeb4b-a165-45e6-8f14-853ba648566d\",\n",
      "            \"device_name\": \"Aetina-SJC-Orin-NX\",\n",
      "            \"edge_ai_app_instance_name\": \"nvidia_triton_profile-edgeaiapp-Aetina-SJC-Orin-NX\",\n",
      "            \"edge_ai_app_instance_uuid\": \"5ee1b6cb-a2f4-440f-a01d-029e2276c361\",\n",
      "            \"prometheus_instance_name\": \"nvidia_triton_profile-prometheus-Aetina-SJC-Orin-NX\",\n",
      "            \"prometheus_instance_uuid\": \"19d4d579-c479-47b4-aa4d-777161d5760b\",\n",
      "            \"triton_instance_name\": \"nvidia_triton_profile-triton-Aetina-SJC-Orin-NX\",\n",
      "            \"triton_instance_uuid\": \"46117a55-e032-400b-842d-8e9c7c488f15\"\n",
      "        }\n",
      "    ],\n",
      "    \"device_tag\": \"\\\"edgeDeviceGroup\\\":\\\"jetsons\\\"\",\n",
      "    \"devices\": [\n",
      "        {\n",
      "            \"id\": \"b8bc5916-8107-49c1-9310-27b7668f290a\",\n",
      "            \"name\": \"Aetina-AIE-KN32\",\n",
      "            \"projectId\": \"2f0f4094-62fa-44f6-b280-75ff37f9d470\"\n",
      "        },\n",
      "        {\n",
      "            \"id\": \"48c78d24-b8a2-4863-a526-69cda2357b60\",\n",
      "            \"name\": \"Aetina-AIE-PX22\",\n",
      "            \"projectId\": \"2f0f4094-62fa-44f6-b280-75ff37f9d470\"\n",
      "        },\n",
      "        {\n",
      "            \"id\": \"9ea77eac-5226-4ccb-9f92-e823332826e9\",\n",
      "            \"name\": \"Aetina-SJC-AGX\",\n",
      "            \"projectId\": \"b8552e75-54ee-4607-a715-1469dd132004\"\n",
      "        },\n",
      "        {\n",
      "            \"id\": \"e6bbeb4b-a165-45e6-8f14-853ba648566d\",\n",
      "            \"name\": \"Aetina-SJC-Orin-NX\",\n",
      "            \"projectId\": \"b8552e75-54ee-4607-a715-1469dd132004\"\n",
      "        }\n",
      "    ],\n",
      "    \"profile_deployment_id\": \"d8ab38f4-2afe-47ac-943f-03172fce1340\",\n",
      "    \"profile_id\": \"790d0c2c-8911-4f10-9b17-bf88616e7739\"\n",
      "}\n"
     ]
    }
   ],
   "source": [
    "# Let's collect edge devices matching a given tag\n",
    "devices = zededa.get_devices(tag='\"edgeDeviceGroup\":\"jetsons\"')\n",
    "print(\"Devices:\", devices)\n",
    "\n",
    "# Create a profile deployment with the profile we created and the devices we selected above\n",
    "profile_deployment = zededa.create_profile_deployment(\"nvidia_triton_profile\", '\"edgeDeviceGroup\":\"jetsons\"')\n",
    "print(\"Profile Deployment:\", json.dumps(profile_deployment, indent=4, sort_keys=True))\n"
   ]
  },
  {
   "cell_type": "code",
   "execution_count": null,
   "metadata": {},
   "outputs": [],
   "source": []
  }
 ],
 "metadata": {
  "kernelspec": {
   "display_name": "Python 3 (ipykernel)",
   "language": "python",
   "name": "python3"
  },
  "language_info": {
   "codemirror_mode": {
    "name": "ipython",
    "version": 3
   },
   "file_extension": ".py",
   "mimetype": "text/x-python",
   "name": "python",
   "nbconvert_exporter": "python",
   "pygments_lexer": "ipython3",
   "version": "3.10.12"
  },
  "vscode": {
   "interpreter": {
    "hash": "f23a2831654361cfd8b219e05b5055fdda3e37fe5c0b020e6226f740844c300a"
   }
  }
 },
 "nbformat": 4,
 "nbformat_minor": 4
}
